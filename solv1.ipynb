{
 "cells": [
  {
   "cell_type": "markdown",
   "id": "1ce81be6",
   "metadata": {},
   "source": [
    "Read the data in the text file."
   ]
  },
  {
   "cell_type": "code",
   "execution_count": 1,
   "id": "e26fad62",
   "metadata": {},
   "outputs": [
    {
     "name": "stdout",
     "output_type": "stream",
     "text": [
      "D1,Sunny,Hot,High,Weak,No\n",
      "D2,Sunny,Hot,High,Strong,No\n",
      "D3,Overcast,Hot,High,Weak,Yes\n",
      "D4,Rain,Mild,High,Weak,Yes\n",
      "D5,Rain,Cool,Normal,Weak,Yes\n",
      "D6,Rain,Cool,Normal,Strong,No\n",
      "D7,Overcast,Cool,Normal,Strong,Yes\n",
      "D8,Sunny,Mild,High,Weak,No\n",
      "D9,Sunny,Cool,Normal,Weak,Yes\n",
      "D10,Rain,Mild,Normal,Weak,Yes\n",
      "D11,Sunny,Mild,Normal,Strong,Yes\n",
      "D12,Overcast,Mild,High,Strong,Yes\n",
      "D13,Overcast,Hot,Normal,Weak,Yes\n",
      "D14,Rain,Mild,High,Strong,No\n"
     ]
    }
   ],
   "source": [
    "file = open('tennis_data.txt','r')\n",
    "content = file.read()\n",
    "print(content)"
   ]
  },
  {
   "cell_type": "markdown",
   "id": "4e6b739b",
   "metadata": {},
   "source": [
    "Converting the text file to csv"
   ]
  },
  {
   "cell_type": "code",
   "execution_count": 5,
   "id": "729e2aee",
   "metadata": {},
   "outputs": [
    {
     "name": "stdout",
     "output_type": "stream",
     "text": [
      "D1,Sunny,Hot,High,Weak,No\n",
      "D2,Sunny,Hot,High,Strong,No\n",
      "D3,Overcast,Hot,High,Weak,Yes\n",
      "D4,Rain,Mild,High,Weak,Yes\n",
      "D5,Rain,Cool,Normal,Weak,Yes\n",
      "D6,Rain,Cool,Normal,Strong,No\n",
      "D7,Overcast,Cool,Normal,Strong,Yes\n",
      "D8,Sunny,Mild,High,Weak,No\n",
      "D9,Sunny,Cool,Normal,Weak,Yes\n",
      "D10,Rain,Mild,Normal,Weak,Yes\n",
      "D11,Sunny,Mild,Normal,Strong,Yes\n",
      "D12,Overcast,Mild,High,Strong,Yes\n",
      "D13,Overcast,Hot,Normal,Weak,Yes\n",
      "D14,Rain,Mild,High,Strong,No\n",
      "\n"
     ]
    }
   ],
   "source": [
    "import pandas as pd\n",
    "#store the text file in a dataframe\n",
    "df = pd.read_csv(\"tennis_data.txt\")\n",
    "#convert the dataframe to csv\n",
    "df.to_csv('tennis_data.csv', index=None)\n",
    "\n",
    "with open('tennis_data.csv', 'r') as file:\n",
    "    print(file.read(1000))"
   ]
  },
  {
   "cell_type": "markdown",
   "id": "bbd58914",
   "metadata": {},
   "source": [
    "Add headers to my csv file and print the dataframe."
   ]
  },
  {
   "cell_type": "code",
   "execution_count": 6,
   "id": "e612fd4f",
   "metadata": {},
   "outputs": [
    {
     "name": "stdout",
     "output_type": "stream",
     "text": [
      "    Day   Outlook Temperature Humidity    Wind PlayTennis\n",
      "0    D1     Sunny         Hot     High    Weak         No\n",
      "1    D2     Sunny         Hot     High  Strong         No\n",
      "2    D3  Overcast         Hot     High    Weak        Yes\n",
      "3    D4      Rain        Mild     High    Weak        Yes\n",
      "4    D5      Rain        Cool   Normal    Weak        Yes\n",
      "5    D6      Rain        Cool   Normal  Strong         No\n",
      "6    D7  Overcast        Cool   Normal  Strong        Yes\n",
      "7    D8     Sunny        Mild     High    Weak         No\n",
      "8    D9     Sunny        Cool   Normal    Weak        Yes\n",
      "9   D10      Rain        Mild   Normal    Weak        Yes\n",
      "10  D11     Sunny        Mild   Normal  Strong        Yes\n",
      "11  D12  Overcast        Mild     High  Strong        Yes\n",
      "12  D13  Overcast         Hot   Normal    Weak        Yes\n",
      "13  D14      Rain        Mild     High  Strong         No\n"
     ]
    }
   ],
   "source": [
    "from io import StringIO\n",
    "# Add headers to columns\n",
    "headers = ['Day',\t'Outlook',\t'Temperature',\t'Humidity',\t'Wind',\t'PlayTennis']\n",
    "    \n",
    "# Read CSV string into DataFrame\n",
    "df = pd.read_csv(StringIO(content), header=None, names=headers)\n",
    "\n",
    "# Display the DataFrame\n",
    "print(df)"
   ]
  },
  {
   "cell_type": "markdown",
   "id": "c36c261f",
   "metadata": {},
   "source": [
    "Create conditional probability tables (CPTs) for each of the random variables."
   ]
  },
  {
   "cell_type": "code",
   "execution_count": 51,
   "id": "e844ba2c",
   "metadata": {},
   "outputs": [
    {
     "name": "stdout",
     "output_type": "stream",
     "text": [
      "CPT for Play Tennis:\n",
      "            Count  Probability\n",
      "PlayTennis                    \n",
      "Yes             9     0.642857\n",
      "No              5     0.357143\n",
      "\n",
      "Outlook     Overcast      Rain     Sunny\n",
      "PlayTennis                              \n",
      "No          0.000000  0.400000  0.600000\n",
      "Yes         0.444444  0.333333  0.222222\n",
      "\n",
      "Temperature      Cool       Hot      Mild\n",
      "PlayTennis                               \n",
      "No           0.200000  0.400000  0.400000\n",
      "Yes          0.333333  0.222222  0.444444\n",
      "\n",
      "Humidity        High    Normal\n",
      "PlayTennis                    \n",
      "No          0.800000  0.200000\n",
      "Yes         0.333333  0.666667\n",
      "\n",
      "Wind          Strong      Weak\n",
      "PlayTennis                    \n",
      "No          0.600000  0.400000\n",
      "Yes         0.333333  0.666667\n",
      "\n"
     ]
    }
   ],
   "source": [
    "from pgmpy.models import BayesianNetwork\n",
    "from pgmpy.factors.discrete import TabularCPD\n",
    "\n",
    "def single_column_cpt(series):\n",
    "    \"\"\"Create probability table from single column\"\"\"\n",
    "    counts = series.value_counts()\n",
    "    probabilities = series.value_counts(normalize=True)\n",
    "    \n",
    "    cpt = pd.DataFrame({\n",
    "        'Count': counts,\n",
    "        'Probability': probabilities\n",
    "    })\n",
    "    \n",
    "    return cpt\n",
    "\n",
    "cpt = single_column_cpt(df['PlayTennis'])\n",
    "print(\"CPT for Play Tennis:\")\n",
    "print(cpt)\n",
    "print()\n",
    "\n",
    "def create_cpt(df,target_col, condition_cols):\n",
    "    \"\"\"\n",
    "    Create CPT for P(target | conditions)\n",
    "    \"\"\"\n",
    "    grouped = df.groupby(target_col)[condition_cols].value_counts(normalize=True)\n",
    "    return grouped.unstack(fill_value=0)\n",
    "\n",
    "# output for the data\n",
    "outlook = create_cpt(df, 'PlayTennis', ['Outlook'])\n",
    "print(outlook)\n",
    "print()\n",
    "temp = create_cpt(df, 'PlayTennis', ['Temperature'])\n",
    "print(temp)\n",
    "print()\n",
    "humidity = create_cpt(df, 'PlayTennis', ['Humidity'])\n",
    "print(humidity)\n",
    "print()\n",
    "wind = create_cpt(df, 'PlayTennis', ['Wind'])\n",
    "print(wind)\n",
    "print()\n",
    "\n"
   ]
  },
  {
   "cell_type": "markdown",
   "id": "5ff153ed",
   "metadata": {},
   "source": [
    "Cpt from a single column"
   ]
  },
  {
   "cell_type": "code",
   "execution_count": 49,
   "id": "99790b98",
   "metadata": {},
   "outputs": [
    {
     "name": "stdout",
     "output_type": "stream",
     "text": [
      "CPT for Play Tennis:\n",
      "            Count  Probability\n",
      "PlayTennis                    \n",
      "Yes             9     0.642857\n",
      "No              5     0.357143\n"
     ]
    }
   ],
   "source": [
    "def single_column_cpt(series):\n",
    "    \"\"\"Create probability table from single column\"\"\"\n",
    "    counts = series.value_counts()\n",
    "    probabilities = series.value_counts(normalize=True)\n",
    "    \n",
    "    cpt = pd.DataFrame({\n",
    "        'Count': counts,\n",
    "        'Probability': probabilities\n",
    "    })\n",
    "    \n",
    "    return cpt\n",
    "\n",
    "cpt = single_column_cpt(df['PlayTennis'])\n",
    "print(\"CPT for Play Tennis:\")\n",
    "print(cpt)"
   ]
  },
  {
   "cell_type": "markdown",
   "id": "7a3831a1",
   "metadata": {},
   "source": [
    "Carrying out probability tests from the data in the cpt tables."
   ]
  },
  {
   "cell_type": "code",
   "execution_count": null,
   "id": "1db88f1d",
   "metadata": {},
   "outputs": [
    {
     "name": "stdout",
     "output_type": "stream",
     "text": [
      "Temperature            Cool       Hot      Mild\n",
      "PlayTennis Wind                                \n",
      "No         Strong  0.200000  0.200000  0.200000\n",
      "           Weak    0.000000  0.200000  0.200000\n",
      "Yes        Strong  0.111111  0.000000  0.222222\n",
      "           Weak    0.222222  0.222222  0.222222\n",
      "\n",
      "P(Yes | Strong, Mild) = 0.2222222222222222\n"
     ]
    }
   ],
   "source": [
    "wind_temp = create_cpt(df, 'PlayTennis', ['Wind', 'Temperature'])\n",
    "print(wind_temp)\n",
    "print()\n",
    "'''\n",
    "#This queries data in dictionary format\n",
    "def query_cpt(cpt_data, conditions, target_value):\n",
    "    \"\"\"Query CPT for specific probability\"\"\"\n",
    "    if conditions in cpt_data:\n",
    "        return cpt_data[conditions].get(target_value, 0)\n",
    "    return 0\n",
    "\n",
    "# Test: P(Yes | strong, mild)\n",
    "prob = query_cpt(wind_temp, ('Strong', 'Mild'), 'Yes')\n",
    "print(f\"P(Yes | strong, mild) = {prob}\")\n",
    "'''\n",
    "#Query data in a dataframe format using .loc\n",
    "def query_cpt(cpt_df, wind_val, temp_val, target_value):\n",
    "    \"\"\"Query CPT DataFrame for specific probability\"\"\"\n",
    "    try:\n",
    "        return cpt_df.loc[(target_value, wind_val), temp_val]\n",
    "    except (KeyError, IndexError):\n",
    "        return 0.0\n",
    "\n",
    "# Test: P(Yes | Strong, Mild)\n",
    "prob = query_cpt(wind_temp, 'Strong', 'Mild', 'Yes')\n",
    "print(f\"P(Yes | Strong, Mild) = {prob}\")"
   ]
  },
  {
   "cell_type": "code",
   "execution_count": 41,
   "id": "7c6a2cd2",
   "metadata": {},
   "outputs": [
    {
     "ename": "ImportError",
     "evalue": "cannot import name '_lazywhere' from 'scipy._lib._util' (c:\\Users\\THINKPAD\\OneDrive - hull.ac.uk\\GitHub\\bayes_theorem\\.venv\\Lib\\site-packages\\scipy\\_lib\\_util.py)",
     "output_type": "error",
     "traceback": [
      "\u001b[31m---------------------------------------------------------------------------\u001b[39m",
      "\u001b[31mImportError\u001b[39m                               Traceback (most recent call last)",
      "\u001b[36mCell\u001b[39m\u001b[36m \u001b[39m\u001b[32mIn[41]\u001b[39m\u001b[32m, line 2\u001b[39m\n\u001b[32m      1\u001b[39m \u001b[38;5;28;01mfrom\u001b[39;00m\u001b[38;5;250m \u001b[39m\u001b[34;01mpgmpy\u001b[39;00m\u001b[34;01m.\u001b[39;00m\u001b[34;01mfactors\u001b[39;00m\u001b[34;01m.\u001b[39;00m\u001b[34;01mdiscrete\u001b[39;00m\u001b[38;5;250m \u001b[39m\u001b[38;5;28;01mimport\u001b[39;00m TabularCPD\n\u001b[32m----> \u001b[39m\u001b[32m2\u001b[39m \u001b[38;5;28;01mfrom\u001b[39;00m\u001b[38;5;250m \u001b[39m\u001b[34;01mpgmpy\u001b[39;00m\u001b[34;01m.\u001b[39;00m\u001b[34;01minference\u001b[39;00m\u001b[38;5;250m \u001b[39m\u001b[38;5;28;01mimport\u001b[39;00m VariableElimination\n\u001b[32m      4\u001b[39m \u001b[38;5;66;03m# Define network structure\u001b[39;00m\n\u001b[32m      5\u001b[39m model = BayesianNetwork([(\u001b[33m'\u001b[39m\u001b[33mHumidity\u001b[39m\u001b[33m'\u001b[39m, \u001b[33m'\u001b[39m\u001b[33mPlayTennis\u001b[39m\u001b[33m'\u001b[39m), (\u001b[33m'\u001b[39m\u001b[33mWind\u001b[39m\u001b[33m'\u001b[39m, \u001b[33m'\u001b[39m\u001b[33mPlayTennis\u001b[39m\u001b[33m'\u001b[39m)])\n",
      "\u001b[36mFile \u001b[39m\u001b[32mc:\\Users\\THINKPAD\\OneDrive - hull.ac.uk\\GitHub\\bayes_theorem\\.venv\\Lib\\site-packages\\pgmpy\\inference\\__init__.py:2\u001b[39m\n\u001b[32m      1\u001b[39m \u001b[38;5;28;01mfrom\u001b[39;00m\u001b[38;5;250m \u001b[39m\u001b[34;01m.\u001b[39;00m\u001b[34;01mbase\u001b[39;00m\u001b[38;5;250m \u001b[39m\u001b[38;5;28;01mimport\u001b[39;00m Inference\n\u001b[32m----> \u001b[39m\u001b[32m2\u001b[39m \u001b[38;5;28;01mfrom\u001b[39;00m\u001b[38;5;250m \u001b[39m\u001b[34;01m.\u001b[39;00m\u001b[34;01mCausalInference\u001b[39;00m\u001b[38;5;250m \u001b[39m\u001b[38;5;28;01mimport\u001b[39;00m CausalInference\n\u001b[32m      3\u001b[39m \u001b[38;5;28;01mfrom\u001b[39;00m\u001b[38;5;250m \u001b[39m\u001b[34;01m.\u001b[39;00m\u001b[34;01mExactInference\u001b[39;00m\u001b[38;5;250m \u001b[39m\u001b[38;5;28;01mimport\u001b[39;00m BeliefPropagation\n\u001b[32m      4\u001b[39m \u001b[38;5;28;01mfrom\u001b[39;00m\u001b[38;5;250m \u001b[39m\u001b[34;01m.\u001b[39;00m\u001b[34;01mExactInference\u001b[39;00m\u001b[38;5;250m \u001b[39m\u001b[38;5;28;01mimport\u001b[39;00m VariableElimination\n",
      "\u001b[36mFile \u001b[39m\u001b[32mc:\\Users\\THINKPAD\\OneDrive - hull.ac.uk\\GitHub\\bayes_theorem\\.venv\\Lib\\site-packages\\pgmpy\\inference\\CausalInference.py:9\u001b[39m\n\u001b[32m      6\u001b[39m \u001b[38;5;28;01mfrom\u001b[39;00m\u001b[38;5;250m \u001b[39m\u001b[34;01mtqdm\u001b[39;00m\u001b[34;01m.\u001b[39;00m\u001b[34;01mauto\u001b[39;00m\u001b[38;5;250m \u001b[39m\u001b[38;5;28;01mimport\u001b[39;00m tqdm\n\u001b[32m      8\u001b[39m \u001b[38;5;28;01mfrom\u001b[39;00m\u001b[38;5;250m \u001b[39m\u001b[34;01mpgmpy\u001b[39;00m\u001b[38;5;250m \u001b[39m\u001b[38;5;28;01mimport\u001b[39;00m config\n\u001b[32m----> \u001b[39m\u001b[32m9\u001b[39m \u001b[38;5;28;01mfrom\u001b[39;00m\u001b[38;5;250m \u001b[39m\u001b[34;01mpgmpy\u001b[39;00m\u001b[34;01m.\u001b[39;00m\u001b[34;01mestimators\u001b[39;00m\u001b[34;01m.\u001b[39;00m\u001b[34;01mLinearModel\u001b[39;00m\u001b[38;5;250m \u001b[39m\u001b[38;5;28;01mimport\u001b[39;00m LinearEstimator\n\u001b[32m     10\u001b[39m \u001b[38;5;28;01mfrom\u001b[39;00m\u001b[38;5;250m \u001b[39m\u001b[34;01mpgmpy\u001b[39;00m\u001b[34;01m.\u001b[39;00m\u001b[34;01mfactors\u001b[39;00m\u001b[34;01m.\u001b[39;00m\u001b[34;01mdiscrete\u001b[39;00m\u001b[38;5;250m \u001b[39m\u001b[38;5;28;01mimport\u001b[39;00m DiscreteFactor\n\u001b[32m     11\u001b[39m \u001b[38;5;28;01mfrom\u001b[39;00m\u001b[38;5;250m \u001b[39m\u001b[34;01mpgmpy\u001b[39;00m\u001b[34;01m.\u001b[39;00m\u001b[34;01mmodels\u001b[39;00m\u001b[38;5;250m \u001b[39m\u001b[38;5;28;01mimport\u001b[39;00m DiscreteBayesianNetwork\n",
      "\u001b[36mFile \u001b[39m\u001b[32mc:\\Users\\THINKPAD\\OneDrive - hull.ac.uk\\GitHub\\bayes_theorem\\.venv\\Lib\\site-packages\\pgmpy\\estimators\\__init__.py:4\u001b[39m\n\u001b[32m      2\u001b[39m \u001b[38;5;28;01mfrom\u001b[39;00m\u001b[38;5;250m \u001b[39m\u001b[34;01mpgmpy\u001b[39;00m\u001b[34;01m.\u001b[39;00m\u001b[34;01mestimators\u001b[39;00m\u001b[34;01m.\u001b[39;00m\u001b[34;01mMLE\u001b[39;00m\u001b[38;5;250m \u001b[39m\u001b[38;5;28;01mimport\u001b[39;00m MaximumLikelihoodEstimator\n\u001b[32m      3\u001b[39m \u001b[38;5;28;01mfrom\u001b[39;00m\u001b[38;5;250m \u001b[39m\u001b[34;01mpgmpy\u001b[39;00m\u001b[34;01m.\u001b[39;00m\u001b[34;01mestimators\u001b[39;00m\u001b[34;01m.\u001b[39;00m\u001b[34;01mBayesianEstimator\u001b[39;00m\u001b[38;5;250m \u001b[39m\u001b[38;5;28;01mimport\u001b[39;00m BayesianEstimator\n\u001b[32m----> \u001b[39m\u001b[32m4\u001b[39m \u001b[38;5;28;01mfrom\u001b[39;00m\u001b[38;5;250m \u001b[39m\u001b[34;01mpgmpy\u001b[39;00m\u001b[34;01m.\u001b[39;00m\u001b[34;01mestimators\u001b[39;00m\u001b[34;01m.\u001b[39;00m\u001b[34;01mStructureScore\u001b[39;00m\u001b[38;5;250m \u001b[39m\u001b[38;5;28;01mimport\u001b[39;00m (\n\u001b[32m      5\u001b[39m     get_scoring_method,\n\u001b[32m      6\u001b[39m     StructureScore,\n\u001b[32m      7\u001b[39m     K2,\n\u001b[32m      8\u001b[39m     BDeu,\n\u001b[32m      9\u001b[39m     BDs,\n\u001b[32m     10\u001b[39m     BIC,\n\u001b[32m     11\u001b[39m     BICGauss,\n\u001b[32m     12\u001b[39m     BICCondGauss,\n\u001b[32m     13\u001b[39m     AIC,\n\u001b[32m     14\u001b[39m     AICGauss,\n\u001b[32m     15\u001b[39m     AICCondGauss,\n\u001b[32m     16\u001b[39m     LogLikelihoodGauss,\n\u001b[32m     17\u001b[39m     LogLikelihoodCondGauss,\n\u001b[32m     18\u001b[39m )\n\u001b[32m     19\u001b[39m \u001b[38;5;28;01mfrom\u001b[39;00m\u001b[38;5;250m \u001b[39m\u001b[34;01mpgmpy\u001b[39;00m\u001b[34;01m.\u001b[39;00m\u001b[34;01mestimators\u001b[39;00m\u001b[34;01m.\u001b[39;00m\u001b[34;01mExhaustiveSearch\u001b[39;00m\u001b[38;5;250m \u001b[39m\u001b[38;5;28;01mimport\u001b[39;00m ExhaustiveSearch\n\u001b[32m     20\u001b[39m \u001b[38;5;28;01mfrom\u001b[39;00m\u001b[38;5;250m \u001b[39m\u001b[34;01mpgmpy\u001b[39;00m\u001b[34;01m.\u001b[39;00m\u001b[34;01mestimators\u001b[39;00m\u001b[34;01m.\u001b[39;00m\u001b[34;01mExpertKnowledge\u001b[39;00m\u001b[38;5;250m \u001b[39m\u001b[38;5;28;01mimport\u001b[39;00m ExpertKnowledge\n",
      "\u001b[36mFile \u001b[39m\u001b[32mc:\\Users\\THINKPAD\\OneDrive - hull.ac.uk\\GitHub\\bayes_theorem\\.venv\\Lib\\site-packages\\pgmpy\\estimators\\StructureScore.py:6\u001b[39m\n\u001b[32m      4\u001b[39m \u001b[38;5;28;01mimport\u001b[39;00m\u001b[38;5;250m \u001b[39m\u001b[34;01mnumpy\u001b[39;00m\u001b[38;5;250m \u001b[39m\u001b[38;5;28;01mas\u001b[39;00m\u001b[38;5;250m \u001b[39m\u001b[34;01mnp\u001b[39;00m\n\u001b[32m      5\u001b[39m \u001b[38;5;28;01mimport\u001b[39;00m\u001b[38;5;250m \u001b[39m\u001b[34;01mpandas\u001b[39;00m\u001b[38;5;250m \u001b[39m\u001b[38;5;28;01mas\u001b[39;00m\u001b[38;5;250m \u001b[39m\u001b[34;01mpd\u001b[39;00m\n\u001b[32m----> \u001b[39m\u001b[32m6\u001b[39m \u001b[38;5;28;01mimport\u001b[39;00m\u001b[38;5;250m \u001b[39m\u001b[34;01mstatsmodels\u001b[39;00m\u001b[34;01m.\u001b[39;00m\u001b[34;01mformula\u001b[39;00m\u001b[34;01m.\u001b[39;00m\u001b[34;01mapi\u001b[39;00m\u001b[38;5;250m \u001b[39m\u001b[38;5;28;01mas\u001b[39;00m\u001b[38;5;250m \u001b[39m\u001b[34;01msmf\u001b[39;00m\n\u001b[32m      7\u001b[39m \u001b[38;5;28;01mfrom\u001b[39;00m\u001b[38;5;250m \u001b[39m\u001b[34;01mscipy\u001b[39;00m\u001b[34;01m.\u001b[39;00m\u001b[34;01mspecial\u001b[39;00m\u001b[38;5;250m \u001b[39m\u001b[38;5;28;01mimport\u001b[39;00m gammaln\n\u001b[32m      8\u001b[39m \u001b[38;5;28;01mfrom\u001b[39;00m\u001b[38;5;250m \u001b[39m\u001b[34;01mscipy\u001b[39;00m\u001b[34;01m.\u001b[39;00m\u001b[34;01mstats\u001b[39;00m\u001b[38;5;250m \u001b[39m\u001b[38;5;28;01mimport\u001b[39;00m multivariate_normal\n",
      "\u001b[36mFile \u001b[39m\u001b[32mc:\\Users\\THINKPAD\\OneDrive - hull.ac.uk\\GitHub\\bayes_theorem\\.venv\\Lib\\site-packages\\statsmodels\\formula\\api.py:2\u001b[39m\n\u001b[32m      1\u001b[39m \u001b[38;5;28;01mimport\u001b[39;00m\u001b[38;5;250m \u001b[39m\u001b[34;01mstatsmodels\u001b[39;00m\u001b[34;01m.\u001b[39;00m\u001b[34;01mregression\u001b[39;00m\u001b[34;01m.\u001b[39;00m\u001b[34;01mlinear_model\u001b[39;00m\u001b[38;5;250m \u001b[39m\u001b[38;5;28;01mas\u001b[39;00m\u001b[38;5;250m \u001b[39m\u001b[34;01mlm_\u001b[39;00m\n\u001b[32m----> \u001b[39m\u001b[32m2\u001b[39m \u001b[38;5;28;01mimport\u001b[39;00m\u001b[38;5;250m \u001b[39m\u001b[34;01mstatsmodels\u001b[39;00m\u001b[34;01m.\u001b[39;00m\u001b[34;01mdiscrete\u001b[39;00m\u001b[34;01m.\u001b[39;00m\u001b[34;01mdiscrete_model\u001b[39;00m\u001b[38;5;250m \u001b[39m\u001b[38;5;28;01mas\u001b[39;00m\u001b[38;5;250m \u001b[39m\u001b[34;01mdm_\u001b[39;00m\n\u001b[32m      3\u001b[39m \u001b[38;5;28;01mimport\u001b[39;00m\u001b[38;5;250m \u001b[39m\u001b[34;01mstatsmodels\u001b[39;00m\u001b[34;01m.\u001b[39;00m\u001b[34;01mdiscrete\u001b[39;00m\u001b[34;01m.\u001b[39;00m\u001b[34;01mconditional_models\u001b[39;00m\u001b[38;5;250m \u001b[39m\u001b[38;5;28;01mas\u001b[39;00m\u001b[38;5;250m \u001b[39m\u001b[34;01mdcm_\u001b[39;00m\n\u001b[32m      4\u001b[39m \u001b[38;5;28;01mimport\u001b[39;00m\u001b[38;5;250m \u001b[39m\u001b[34;01mstatsmodels\u001b[39;00m\u001b[34;01m.\u001b[39;00m\u001b[34;01mregression\u001b[39;00m\u001b[34;01m.\u001b[39;00m\u001b[34;01mmixed_linear_model\u001b[39;00m\u001b[38;5;250m \u001b[39m\u001b[38;5;28;01mas\u001b[39;00m\u001b[38;5;250m \u001b[39m\u001b[34;01mmlm_\u001b[39;00m\n",
      "\u001b[36mFile \u001b[39m\u001b[32mc:\\Users\\THINKPAD\\OneDrive - hull.ac.uk\\GitHub\\bayes_theorem\\.venv\\Lib\\site-packages\\statsmodels\\discrete\\discrete_model.py:38\u001b[39m\n\u001b[32m     36\u001b[39m \u001b[38;5;28;01mimport\u001b[39;00m\u001b[38;5;250m \u001b[39m\u001b[34;01mstatsmodels\u001b[39;00m\u001b[34;01m.\u001b[39;00m\u001b[34;01mbase\u001b[39;00m\u001b[34;01m.\u001b[39;00m\u001b[34;01m_parameter_inference\u001b[39;00m\u001b[38;5;250m \u001b[39m\u001b[38;5;28;01mas\u001b[39;00m\u001b[38;5;250m \u001b[39m\u001b[34;01mpinfer\u001b[39;00m\n\u001b[32m     37\u001b[39m \u001b[38;5;28;01mfrom\u001b[39;00m\u001b[38;5;250m \u001b[39m\u001b[34;01mstatsmodels\u001b[39;00m\u001b[34;01m.\u001b[39;00m\u001b[34;01mbase\u001b[39;00m\u001b[38;5;250m \u001b[39m\u001b[38;5;28;01mimport\u001b[39;00m _prediction_inference \u001b[38;5;28;01mas\u001b[39;00m pred\n\u001b[32m---> \u001b[39m\u001b[32m38\u001b[39m \u001b[38;5;28;01mfrom\u001b[39;00m\u001b[38;5;250m \u001b[39m\u001b[34;01mstatsmodels\u001b[39;00m\u001b[34;01m.\u001b[39;00m\u001b[34;01mdistributions\u001b[39;00m\u001b[38;5;250m \u001b[39m\u001b[38;5;28;01mimport\u001b[39;00m genpoisson_p\n\u001b[32m     39\u001b[39m \u001b[38;5;28;01mimport\u001b[39;00m\u001b[38;5;250m \u001b[39m\u001b[34;01mstatsmodels\u001b[39;00m\u001b[34;01m.\u001b[39;00m\u001b[34;01mregression\u001b[39;00m\u001b[34;01m.\u001b[39;00m\u001b[34;01mlinear_model\u001b[39;00m\u001b[38;5;250m \u001b[39m\u001b[38;5;28;01mas\u001b[39;00m\u001b[38;5;250m \u001b[39m\u001b[34;01mlm\u001b[39;00m\n\u001b[32m     40\u001b[39m \u001b[38;5;28;01mfrom\u001b[39;00m\u001b[38;5;250m \u001b[39m\u001b[34;01mstatsmodels\u001b[39;00m\u001b[34;01m.\u001b[39;00m\u001b[34;01mtools\u001b[39;00m\u001b[38;5;250m \u001b[39m\u001b[38;5;28;01mimport\u001b[39;00m data \u001b[38;5;28;01mas\u001b[39;00m data_tools, tools\n",
      "\u001b[36mFile \u001b[39m\u001b[32mc:\\Users\\THINKPAD\\OneDrive - hull.ac.uk\\GitHub\\bayes_theorem\\.venv\\Lib\\site-packages\\statsmodels\\distributions\\__init__.py:7\u001b[39m\n\u001b[32m      2\u001b[39m \u001b[38;5;28;01mfrom\u001b[39;00m\u001b[38;5;250m \u001b[39m\u001b[34;01m.\u001b[39;00m\u001b[34;01mempirical_distribution\u001b[39;00m\u001b[38;5;250m \u001b[39m\u001b[38;5;28;01mimport\u001b[39;00m (\n\u001b[32m      3\u001b[39m     ECDF, ECDFDiscrete, monotone_fn_inverter, StepFunction\n\u001b[32m      4\u001b[39m     )\n\u001b[32m      5\u001b[39m \u001b[38;5;28;01mfrom\u001b[39;00m\u001b[38;5;250m \u001b[39m\u001b[34;01m.\u001b[39;00m\u001b[34;01medgeworth\u001b[39;00m\u001b[38;5;250m \u001b[39m\u001b[38;5;28;01mimport\u001b[39;00m ExpandedNormal\n\u001b[32m----> \u001b[39m\u001b[32m7\u001b[39m \u001b[38;5;28;01mfrom\u001b[39;00m\u001b[38;5;250m \u001b[39m\u001b[34;01m.\u001b[39;00m\u001b[34;01mdiscrete\u001b[39;00m\u001b[38;5;250m \u001b[39m\u001b[38;5;28;01mimport\u001b[39;00m (\n\u001b[32m      8\u001b[39m     genpoisson_p, zipoisson, zigenpoisson, zinegbin,\n\u001b[32m      9\u001b[39m     )\n\u001b[32m     11\u001b[39m __all__ = [\n\u001b[32m     12\u001b[39m     \u001b[33m'\u001b[39m\u001b[33mECDF\u001b[39m\u001b[33m'\u001b[39m,\n\u001b[32m     13\u001b[39m     \u001b[33m'\u001b[39m\u001b[33mECDFDiscrete\u001b[39m\u001b[33m'\u001b[39m,\n\u001b[32m   (...)\u001b[39m\u001b[32m     21\u001b[39m     \u001b[33m'\u001b[39m\u001b[33mzipoisson\u001b[39m\u001b[33m'\u001b[39m\n\u001b[32m     22\u001b[39m     ]\n\u001b[32m     24\u001b[39m test = PytestTester()\n",
      "\u001b[36mFile \u001b[39m\u001b[32mc:\\Users\\THINKPAD\\OneDrive - hull.ac.uk\\GitHub\\bayes_theorem\\.venv\\Lib\\site-packages\\statsmodels\\distributions\\discrete.py:5\u001b[39m\n\u001b[32m      3\u001b[39m \u001b[38;5;28;01mfrom\u001b[39;00m\u001b[38;5;250m \u001b[39m\u001b[34;01mscipy\u001b[39;00m\u001b[34;01m.\u001b[39;00m\u001b[34;01mstats\u001b[39;00m\u001b[38;5;250m \u001b[39m\u001b[38;5;28;01mimport\u001b[39;00m rv_discrete, poisson, nbinom\n\u001b[32m      4\u001b[39m \u001b[38;5;28;01mfrom\u001b[39;00m\u001b[38;5;250m \u001b[39m\u001b[34;01mscipy\u001b[39;00m\u001b[34;01m.\u001b[39;00m\u001b[34;01mspecial\u001b[39;00m\u001b[38;5;250m \u001b[39m\u001b[38;5;28;01mimport\u001b[39;00m gammaln\n\u001b[32m----> \u001b[39m\u001b[32m5\u001b[39m \u001b[38;5;28;01mfrom\u001b[39;00m\u001b[38;5;250m \u001b[39m\u001b[34;01mscipy\u001b[39;00m\u001b[34;01m.\u001b[39;00m\u001b[34;01m_lib\u001b[39;00m\u001b[34;01m.\u001b[39;00m\u001b[34;01m_util\u001b[39;00m\u001b[38;5;250m \u001b[39m\u001b[38;5;28;01mimport\u001b[39;00m _lazywhere\n\u001b[32m      7\u001b[39m \u001b[38;5;28;01mfrom\u001b[39;00m\u001b[38;5;250m \u001b[39m\u001b[34;01mstatsmodels\u001b[39;00m\u001b[34;01m.\u001b[39;00m\u001b[34;01mbase\u001b[39;00m\u001b[34;01m.\u001b[39;00m\u001b[34;01mmodel\u001b[39;00m\u001b[38;5;250m \u001b[39m\u001b[38;5;28;01mimport\u001b[39;00m GenericLikelihoodModel\n\u001b[32m     10\u001b[39m \u001b[38;5;28;01mclass\u001b[39;00m\u001b[38;5;250m \u001b[39m\u001b[34;01mgenpoisson_p_gen\u001b[39;00m(rv_discrete):\n",
      "\u001b[31mImportError\u001b[39m: cannot import name '_lazywhere' from 'scipy._lib._util' (c:\\Users\\THINKPAD\\OneDrive - hull.ac.uk\\GitHub\\bayes_theorem\\.venv\\Lib\\site-packages\\scipy\\_lib\\_util.py)"
     ]
    }
   ],
   "source": [
    "from pgmpy.factors.discrete import TabularCPD\n",
    "from pgmpy.inference import VariableElimination\n",
    "\n",
    "# Define network structure\n",
    "model = BayesianNetwork([('Humidity', 'PlayTennis'), ('Wind', 'PlayTennis')])\n",
    "\n",
    "# Define CPDs\n",
    "cpd_wind = TabularCPD(variable='Wind', variable_card=2, \n",
    "                     values=[[0.6, 0.33], #strong\n",
    "                             [0.4, 0.67]],#weak\n",
    "\n",
    "                     state_names={'Wind': ['Strong', 'Weak']})\n",
    "\n",
    "cpd_humidity = TabularCPD(variable='Humidity', variable_card=2, \n",
    "                          values=[[0.33, 0.8],#High\n",
    "                                  [0.67, 0.2]], #Normal\n",
    "                          state_names={'Humidity': ['High', 'Normal']})\n",
    "\n",
    "cpd_playtennis = TabularCPD(variable='PlayTennis', variable_card=2,\n",
    "                         values=[[0.64],[0.36]],  \n",
    "                        \n",
    "                         evidence=['Wind', 'Humidity'],\n",
    "                         evidence_card=[2, 2],\n",
    "                         state_names={'PlayTennis': ['Yes', 'No'],\n",
    "                                      'Wind': ['Strong', 'Weak'],\n",
    "                                      'Humidity': ['High', 'Normal']})\n",
    "\n",
    "# Add CPDs to model\n",
    "model.add_cpds(cpd_wind, cpd_humidity, cpd_playtennis)\n",
    "\n",
    "# Verify model\n",
    "print(\"Model is valid:\", model.check_model())\n",
    "\n",
    "# Perform inference\n",
    "inference = VariableElimination(model)\n",
    "\n",
    "# Query: P(Disease | Symptoms=fever, Age=young)\n",
    "result = inference.query(variables=['PlayTennis'], \n",
    "                        evidence={'Humidity': 'Normal', 'Wind': 'Weak'})\n",
    "print(\"P(PlayTennis | Normal, Weak):\")\n",
    "print(result)"
   ]
  }
 ],
 "metadata": {
  "kernelspec": {
   "display_name": ".venv",
   "language": "python",
   "name": "python3"
  },
  "language_info": {
   "codemirror_mode": {
    "name": "ipython",
    "version": 3
   },
   "file_extension": ".py",
   "mimetype": "text/x-python",
   "name": "python",
   "nbconvert_exporter": "python",
   "pygments_lexer": "ipython3",
   "version": "3.11.9"
  }
 },
 "nbformat": 4,
 "nbformat_minor": 5
}
