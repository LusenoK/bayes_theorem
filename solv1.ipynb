{
 "cells": [
  {
   "cell_type": "markdown",
   "id": "1ce81be6",
   "metadata": {},
   "source": [
    "Read the data in the text file."
   ]
  },
  {
   "cell_type": "code",
   "execution_count": 1,
   "id": "e26fad62",
   "metadata": {},
   "outputs": [
    {
     "name": "stdout",
     "output_type": "stream",
     "text": [
      "D1,Sunny,Hot,High,Weak,No\n",
      "D2,Sunny,Hot,High,Strong,No\n",
      "D3,Overcast,Hot,High,Weak,Yes\n",
      "D4,Rain,Mild,High,Weak,Yes\n",
      "D5,Rain,Cool,Normal,Weak,Yes\n",
      "D6,Rain,Cool,Normal,Strong,No\n",
      "D7,Overcast,Cool,Normal,Strong,Yes\n",
      "D8,Sunny,Mild,High,Weak,No\n",
      "D9,Sunny,Cool,Normal,Weak,Yes\n",
      "D10,Rain,Mild,Normal,Weak,Yes\n",
      "D11,Sunny,Mild,Normal,Strong,Yes\n",
      "D12,Overcast,Mild,High,Strong,Yes\n",
      "D13,Overcast,Hot,Normal,Weak,Yes\n",
      "D14,Rain,Mild,High,Strong,No\n"
     ]
    }
   ],
   "source": [
    "file = open('tennis_data.txt','r')\n",
    "content = file.read()\n",
    "print(content)"
   ]
  },
  {
   "cell_type": "markdown",
   "id": "4e6b739b",
   "metadata": {},
   "source": [
    "Converting the text file to csv"
   ]
  },
  {
   "cell_type": "code",
   "execution_count": 5,
   "id": "729e2aee",
   "metadata": {},
   "outputs": [
    {
     "name": "stdout",
     "output_type": "stream",
     "text": [
      "D1,Sunny,Hot,High,Weak,No\n",
      "D2,Sunny,Hot,High,Strong,No\n",
      "D3,Overcast,Hot,High,Weak,Yes\n",
      "D4,Rain,Mild,High,Weak,Yes\n",
      "D5,Rain,Cool,Normal,Weak,Yes\n",
      "D6,Rain,Cool,Normal,Strong,No\n",
      "D7,Overcast,Cool,Normal,Strong,Yes\n",
      "D8,Sunny,Mild,High,Weak,No\n",
      "D9,Sunny,Cool,Normal,Weak,Yes\n",
      "D10,Rain,Mild,Normal,Weak,Yes\n",
      "D11,Sunny,Mild,Normal,Strong,Yes\n",
      "D12,Overcast,Mild,High,Strong,Yes\n",
      "D13,Overcast,Hot,Normal,Weak,Yes\n",
      "D14,Rain,Mild,High,Strong,No\n",
      "\n"
     ]
    }
   ],
   "source": [
    "import pandas as pd\n",
    "#store the text file in a dataframe\n",
    "df = pd.read_csv(\"tennis_data.txt\")\n",
    "#convert the dataframe to csv\n",
    "df.to_csv('tennis_data.csv', index=None)\n",
    "\n",
    "with open('tennis_data.csv', 'r') as file:\n",
    "    print(file.read(1000))"
   ]
  },
  {
   "cell_type": "markdown",
   "id": "bbd58914",
   "metadata": {},
   "source": [
    "Add headers to my csv file and print the dataframe."
   ]
  },
  {
   "cell_type": "code",
   "execution_count": 6,
   "id": "e612fd4f",
   "metadata": {},
   "outputs": [
    {
     "name": "stdout",
     "output_type": "stream",
     "text": [
      "    Day   Outlook Temperature Humidity    Wind PlayTennis\n",
      "0    D1     Sunny         Hot     High    Weak         No\n",
      "1    D2     Sunny         Hot     High  Strong         No\n",
      "2    D3  Overcast         Hot     High    Weak        Yes\n",
      "3    D4      Rain        Mild     High    Weak        Yes\n",
      "4    D5      Rain        Cool   Normal    Weak        Yes\n",
      "5    D6      Rain        Cool   Normal  Strong         No\n",
      "6    D7  Overcast        Cool   Normal  Strong        Yes\n",
      "7    D8     Sunny        Mild     High    Weak         No\n",
      "8    D9     Sunny        Cool   Normal    Weak        Yes\n",
      "9   D10      Rain        Mild   Normal    Weak        Yes\n",
      "10  D11     Sunny        Mild   Normal  Strong        Yes\n",
      "11  D12  Overcast        Mild     High  Strong        Yes\n",
      "12  D13  Overcast         Hot   Normal    Weak        Yes\n",
      "13  D14      Rain        Mild     High  Strong         No\n"
     ]
    }
   ],
   "source": [
    "from io import StringIO\n",
    "# Add headers to columns\n",
    "headers = ['Day',\t'Outlook',\t'Temperature',\t'Humidity',\t'Wind',\t'PlayTennis']\n",
    "    \n",
    "# Read CSV string into DataFrame\n",
    "df = pd.read_csv(StringIO(content), header=None, names=headers)\n",
    "\n",
    "# Display the DataFrame\n",
    "print(df)"
   ]
  },
  {
   "cell_type": "markdown",
   "id": "c36c261f",
   "metadata": {},
   "source": [
    " conditional probability tables (CPTs) for each of the random variables."
   ]
  },
  {
   "cell_type": "code",
   "execution_count": null,
   "id": "e844ba2c",
   "metadata": {},
   "outputs": [
    {
     "name": "stdout",
     "output_type": "stream",
     "text": [
      "PlayTennis   No  Yes\n",
      "Outlook             \n",
      "Overcast    0.0  1.0\n",
      "Rain        0.4  0.6\n",
      "Sunny       0.6  0.4\n",
      "\n",
      "PlayTennis         No       Yes\n",
      "Temperature                    \n",
      "Cool         0.250000  0.750000\n",
      "Hot          0.500000  0.500000\n",
      "Mild         0.333333  0.666667\n",
      "\n",
      "PlayTennis        No       Yes\n",
      "Humidity                      \n",
      "High        0.571429  0.428571\n",
      "Normal      0.142857  0.857143\n",
      "\n",
      "PlayTennis    No   Yes\n",
      "Wind                  \n",
      "Strong      0.50  0.50\n",
      "Weak        0.25  0.75\n"
     ]
    }
   ],
   "source": [
    "from pgmpy.models import BayesianNetwork\n",
    "from pgmpy.factors.discrete import TabularCPD\n",
    "def create_cpt(df,target_col, condition_cols):\n",
    "    \"\"\"\n",
    "    Create CPT for P(target | conditions)\n",
    "    \"\"\"\n",
    "    grouped = df.groupby(target_col)[condition_cols].value_counts(normalize=True)\n",
    "    return grouped.unstack(fill_value=0)\n",
    "\n",
    "# output for the data\n",
    "outlook = create_cpt(df, 'PlayTennis', ['Outlook'])\n",
    "print(outlook)\n",
    "print()\n",
    "temp = create_cpt(df, 'PlayTennis', ['Temperature'])\n",
    "print(temp)\n",
    "print()\n",
    "humidity = create_cpt(df, 'PlayTennis', ['Humidity'])\n",
    "print(humidity)\n",
    "print()\n",
    "wind = create_cpt(df, 'PlayTennis', ['Wind'])\n",
    "print(wind)"
   ]
  }
 ],
 "metadata": {
  "kernelspec": {
   "display_name": ".venv",
   "language": "python",
   "name": "python3"
  },
  "language_info": {
   "codemirror_mode": {
    "name": "ipython",
    "version": 3
   },
   "file_extension": ".py",
   "mimetype": "text/x-python",
   "name": "python",
   "nbconvert_exporter": "python",
   "pygments_lexer": "ipython3",
   "version": "3.11.9"
  }
 },
 "nbformat": 4,
 "nbformat_minor": 5
}
