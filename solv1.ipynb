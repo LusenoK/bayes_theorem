{
 "cells": [
  {
   "cell_type": "markdown",
   "id": "1ce81be6",
   "metadata": {},
   "source": [
    "Read the data in the text file."
   ]
  },
  {
   "cell_type": "code",
   "execution_count": 8,
   "id": "e26fad62",
   "metadata": {},
   "outputs": [
    {
     "name": "stdout",
     "output_type": "stream",
     "text": [
      "D1,Sunny,Hot,High,Weak,No\n",
      "D2,Sunny,Hot,High,Strong,No\n",
      "D3,Overcast,Hot,High,Weak,Yes\n",
      "D4,Rain,Mild,High,Weak,Yes\n",
      "D5,Rain,Cool,Normal,Weak,Yes\n",
      "D6,Rain,Cool,Normal,Strong,No\n",
      "D7,Overcast,Cool,Normal,Strong,Yes\n",
      "D8,Sunny,Mild,High,Weak,No\n",
      "D9,Sunny,Cool,Normal,Weak,Yes\n",
      "D10,Rain,Mild,Normal,Weak,Yes\n",
      "D11,Sunny,Mild,Normal,Strong,Yes\n",
      "D12,Overcast,Mild,High,Strong,Yes\n",
      "D13,Overcast,Hot,Normal,Weak,Yes\n",
      "D14,Rain,Mild,High,Strong,No\n"
     ]
    }
   ],
   "source": [
    "file = open('tennis_data.txt','r')\n",
    "content = file.read()\n",
    "print(content)"
   ]
  },
  {
   "cell_type": "markdown",
   "id": "4e6b739b",
   "metadata": {},
   "source": [
    "Converting the text file to csv"
   ]
  },
  {
   "cell_type": "code",
   "execution_count": 9,
   "id": "729e2aee",
   "metadata": {},
   "outputs": [
    {
     "name": "stdout",
     "output_type": "stream",
     "text": [
      "D1,Sunny,Hot,High,Weak,No\n",
      "D2,Sunny,Hot,High,Strong,No\n",
      "D3,Overcast,Hot,High,Weak,Yes\n",
      "D4,Rain,Mild,High,Weak,Yes\n",
      "D5,Rain,Cool,Normal,Weak,Yes\n",
      "D6,Rain,Cool,Normal,Strong,No\n",
      "D7,Overcast,Cool,Normal,Strong,Yes\n",
      "D8,Sunny,Mild,High,Weak,No\n",
      "D9,Sunny,Cool,Normal,Weak,Yes\n",
      "D10,Rain,Mild,Normal,Weak,Yes\n",
      "D11,Sunny,Mild,Normal,Strong,Yes\n",
      "D12,Overcast,Mild,High,Strong,Yes\n",
      "D13,Overcast,Hot,Normal,Weak,Yes\n",
      "D14,Rain,Mild,High,Strong,No\n",
      "\n"
     ]
    }
   ],
   "source": [
    "import pandas as pd\n",
    "\n",
    "df = pd.read_csv(\"tennis_data.txt\")\n",
    "df.to_csv('tennis_data.csv', index=None)\n",
    "\n",
    "with open('tennis_data.csv', 'r') as file:\n",
    "    print(file.read(1000))"
   ]
  },
  {
   "cell_type": "markdown",
   "id": "90348de5",
   "metadata": {},
   "source": [
    "Add headers to columns in the csv file.\n"
   ]
  },
  {
   "cell_type": "code",
   "execution_count": 16,
   "id": "59c490cb",
   "metadata": {},
   "outputs": [],
   "source": [
    "import pandas as pd\n",
    "from io import StringIO\n",
    "\n",
    "def method_1_pandas():\n",
    "    \"\"\"Method 1: Using pandas (recommended for most cases)\"\"\"\n",
    "    print(\"\\n=== Method 1: Using pandas ===\")\n",
    "    headers = ['Day', 'Outlook', 'Temprature', 'Humidity', 'Wind', 'Play_tennis']\n",
    "    \n",
    "    # Read CSV string into DataFrame\n",
    "    df = pd.read_csv(StringIO(data), header=None, names=headers)\n",
    "    \n",
    "    # Display the DataFrame\n",
    "    print(df)\n",
    "    \n",
    "    # Save to CSV (commented out as we're working with strings)\n",
    "    df.to_csv('tennis_data2.csv', index=False)\n",
    "\n"
   ]
  }
 ],
 "metadata": {
  "kernelspec": {
   "display_name": "Python 3",
   "language": "python",
   "name": "python3"
  },
  "language_info": {
   "codemirror_mode": {
    "name": "ipython",
    "version": 3
   },
   "file_extension": ".py",
   "mimetype": "text/x-python",
   "name": "python",
   "nbconvert_exporter": "python",
   "pygments_lexer": "ipython3",
   "version": "3.11.9"
  }
 },
 "nbformat": 4,
 "nbformat_minor": 5
}
